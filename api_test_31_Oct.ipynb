{
  "nbformat": 4,
  "nbformat_minor": 0,
  "metadata": {
    "colab": {
      "provenance": [],
      "authorship_tag": "ABX9TyOtwTp4M0cTuCbshJ82/L2S",
      "include_colab_link": true
    },
    "kernelspec": {
      "name": "python3",
      "display_name": "Python 3"
    },
    "language_info": {
      "name": "python"
    }
  },
  "cells": [
    {
      "cell_type": "markdown",
      "metadata": {
        "id": "view-in-github",
        "colab_type": "text"
      },
      "source": [
        "<a href=\"https://colab.research.google.com/github/mnitturu-ct/colabprojects/blob/main/api_test.ipynb\" target=\"_parent\"><img src=\"https://colab.research.google.com/assets/colab-badge.svg\" alt=\"Open In Colab\"/></a>"
      ]
    },
    {
      "cell_type": "code",
      "execution_count": null,
      "metadata": {
        "id": "KM9X9xwgD7Xz"
      },
      "outputs": [],
      "source": [
        "!pip install gradio_client"
      ]
    },
    {
      "cell_type": "code",
      "source": [
        "# Test 1 - Howdy with Summary\n",
        "from gradio_client import Client\n",
        "\n",
        "client = Client(\"https://duchaba-kinship-llm.hf.space/--replicas/mhpzk/\")\n",
        "result = client.predict(\n",
        "\t\t\"Howdy!\",\t# str  in 'Vet Chat Session:' Textbox component\n",
        "\t\t\"Summary\",\t# str  in 'POC Function' Radio component\n",
        "\t\tapi_name=\"/predict\"\n",
        ")\n",
        "print(result)"
      ],
      "metadata": {
        "colab": {
          "base_uri": "https://localhost:8080/"
        },
        "id": "r_G2-tVlPZ1V",
        "outputId": "6d984f76-08c3-4eeb-d994-df59cd71159f"
      },
      "execution_count": 3,
      "outputs": [
        {
          "output_type": "stream",
          "name": "stdout",
          "text": [
            "Loaded as API: https://duchaba-kinship-llm.hf.space/--replicas/mhpzk/ ✔\n",
            "LLM Response:\n",
            "------------\n",
            "The conversation involved a greeting, specifically saying \"Howdy!\"\n",
            "------------\n",
            "Cost: $0.0026\n",
            "LLM CPU Time Sec: 0.0398\n"
          ]
        }
      ]
    },
    {
      "cell_type": "code",
      "source": [
        "# Test 2 - Howdy with Topic\n",
        "from gradio_client import Client\n",
        "\n",
        "client = Client(\"https://duchaba-kinship-llm.hf.space/--replicas/mhpzk/\")\n",
        "result = client.predict(\n",
        "\t\t\"Howdy!\",\t# str  in 'Vet Chat Session:' Textbox component\n",
        "\t\t\"Topic\",\t# str  in 'POC Function' Radio component\n",
        "\t\tapi_name=\"/predict\"\n",
        ")\n",
        "print(result)"
      ],
      "metadata": {
        "colab": {
          "base_uri": "https://localhost:8080/"
        },
        "id": "kq0uaXoWPsIc",
        "outputId": "a19025d7-9949-4f52-ec50-26088a2a05a8"
      },
      "execution_count": 4,
      "outputs": [
        {
          "output_type": "stream",
          "name": "stdout",
          "text": [
            "Loaded as API: https://duchaba-kinship-llm.hf.space/--replicas/mhpzk/ ✔\n",
            "LLM Response:\n",
            "------------\n",
            "1. Introduction to the term \"Howdy\"\n",
            "2. Origin and historical usage of \"Howdy\"\n",
            "3. \"Howdy\" as a colloquial form of greeting in the United States\n",
            "4. The cultural significance of \"Howdy\"\n",
            "5. Usage of \"Howdy\" in different regions\n",
            "6. Influence of \"Howdy\" in pop culture and media\n",
            "7. Comparison of \"Howdy\" with other greetings\n",
            "8. \"Howdy\" in literature and arts\n",
            "9. The evolution of \"Howdy\" in modern times\n",
            "10. The social impact of \"Howdy\"\n",
            "11. Correct context and etiquette of using \"Howdy\" as a greeting.\n",
            "------------\n",
            "Cost: $0.0113\n",
            "LLM CPU Time Sec: 0.0987\n"
          ]
        }
      ]
    },
    {
      "cell_type": "code",
      "source": [
        "# Test 3 - Howdy with Freeform Tags\n",
        "from gradio_client import Client\n",
        "\n",
        "client = Client(\"https://duchaba-kinship-llm.hf.space/--replicas/mhpzk/\")\n",
        "result = client.predict(\n",
        "\t\t\"Howdy!\",\t# str  in 'Vet Chat Session:' Textbox component\n",
        "\t\t\"Freeform Tags\",\t# str  in 'POC Function' Radio component\n",
        "\t\tapi_name=\"/predict\"\n",
        ")\n",
        "print(result)"
      ],
      "metadata": {
        "colab": {
          "base_uri": "https://localhost:8080/"
        },
        "id": "7Eyx0EWGRdTv",
        "outputId": "4ab0ab07-3a2b-45aa-f84c-b2696e5942c1"
      },
      "execution_count": 5,
      "outputs": [
        {
          "output_type": "stream",
          "name": "stdout",
          "text": [
            "Loaded as API: https://duchaba-kinship-llm.hf.space/--replicas/mhpzk/ ✔\n",
            "LLM Response:\n",
            "------------\n",
            "#Howdy\n",
            "#Greetings\n",
            "#FriendlyHello\n",
            "#HowdyPartner\n",
            "#GoodVibes\n",
            "#SmilesAllAround\n",
            "#SouthernCharm\n",
            "#CordialHello\n",
            "#HowdyFolks\n",
            "#CheeryGreeting\n",
            "#StayFriendly\n",
            "#HowdyWorld\n",
            "#CheersToLife\n",
            "#YeeHawHello \n",
            "#WarmWelcome\n",
            "#HowdyTuesday (or whichever day it is)\n",
            "#WesternGreeting\n",
            "#HelloYall\n",
            "#KeepSmiling\n",
            "------------\n",
            "Cost: $0.0088\n",
            "LLM CPU Time Sec: 0.0988\n"
          ]
        }
      ]
    },
    {
      "cell_type": "code",
      "source": [
        "# Test 4 - Howdy with Target Tags\n",
        "from gradio_client import Client\n",
        "\n",
        "client = Client(\"https://duchaba-kinship-llm.hf.space/--replicas/mhpzk/\")\n",
        "result = client.predict(\n",
        "\t\t\"Howdy!\",\t# str  in 'Vet Chat Session:' Textbox component\n",
        "\t\t\"Target Tags\",\t# str  in 'POC Function' Radio component\n",
        "\t\tapi_name=\"/predict\"\n",
        ")\n",
        "print(result)"
      ],
      "metadata": {
        "colab": {
          "base_uri": "https://localhost:8080/"
        },
        "id": "8anaJxZsRplK",
        "outputId": "cf370ec7-7d4a-424e-c478-2beb0133586a"
      },
      "execution_count": 6,
      "outputs": [
        {
          "output_type": "stream",
          "name": "stdout",
          "text": [
            "Loaded as API: https://duchaba-kinship-llm.hf.space/--replicas/mhpzk/ ✔\n",
            "LLM Response:\n",
            "------------\n",
            "The chat session does not provide any relevant information to classify the given tags.\n",
            "------------\n",
            "Cost: $0.0056\n",
            "LLM CPU Time Sec: 0.0156\n"
          ]
        }
      ]
    },
    {
      "cell_type": "code",
      "source": [
        "# Test 5 - Howdy with Diagnose\n",
        "from gradio_client import Client\n",
        "\n",
        "client = Client(\"https://duchaba-kinship-llm.hf.space/--replicas/mhpzk/\")\n",
        "result = client.predict(\n",
        "\t\t\"Howdy!\",\t# str  in 'Vet Chat Session:' Textbox component\n",
        "\t\t\"Diagnose\",\t# str  in 'POC Function' Radio component\n",
        "\t\tapi_name=\"/predict\"\n",
        ")\n",
        "print(result)"
      ],
      "metadata": {
        "colab": {
          "base_uri": "https://localhost:8080/"
        },
        "id": "YWn3JMrtR1Pd",
        "outputId": "3bd78daf-46aa-48e5-b743-2cbed1b3f18f"
      },
      "execution_count": 7,
      "outputs": [
        {
          "output_type": "stream",
          "name": "stdout",
          "text": [
            "Loaded as API: https://duchaba-kinship-llm.hf.space/--replicas/mhpzk/ ✔\n",
            "LLM Response:\n",
            "------------\n",
            "Without any details about the pet's symptoms, behavior, or overall health, it's impossible to make a diagnosis just based on the greeting \"Howdy!\".\n",
            "------------\n",
            "Cost: $0.0043\n",
            "LLM CPU Time Sec: 0.0324\n"
          ]
        }
      ]
    },
    {
      "cell_type": "code",
      "source": [
        "# Test 6 - Howdy with Treatment\n",
        "from gradio_client import Client\n",
        "\n",
        "client = Client(\"https://duchaba-kinship-llm.hf.space/--replicas/mhpzk/\")\n",
        "result = client.predict(\n",
        "\t\t\"Howdy!\",\t# str  in 'Vet Chat Session:' Textbox component\n",
        "\t\t\"Treatment\",\t# str  in 'POC Function' Radio component\n",
        "\t\tapi_name=\"/predict\"\n",
        ")\n",
        "print(result)"
      ],
      "metadata": {
        "colab": {
          "base_uri": "https://localhost:8080/"
        },
        "id": "oMu4LbDMhTut",
        "outputId": "5dcd78ac-8b6c-4132-d2ca-6a04a523c6a5"
      },
      "execution_count": 8,
      "outputs": [
        {
          "output_type": "stream",
          "name": "stdout",
          "text": [
            "Loaded as API: https://duchaba-kinship-llm.hf.space/--replicas/mhpzk/ ✔\n",
            "LLM Response:\n",
            "------------\n",
            "Your question doesn't provide enough information for me to give an accurate answer. Could you please provide more details about the pet's condition or symptoms?\n",
            "------------\n",
            "Cost: $0.0041\n",
            "LLM CPU Time Sec: 0.0526\n"
          ]
        }
      ]
    },
    {
      "cell_type": "code",
      "source": [
        "# Test 7 - Howdy with Articles\n",
        "from gradio_client import Client\n",
        "\n",
        "client = Client(\"https://duchaba-kinship-llm.hf.space/--replicas/mhpzk/\")\n",
        "result = client.predict(\n",
        "\t\t\"Howdy!\",\t# str  in 'Vet Chat Session:' Textbox component\n",
        "\t\t\"Articles\",\t# str  in 'POC Function' Radio component\n",
        "\t\tapi_name=\"/predict\"\n",
        ")\n",
        "print(result)"
      ],
      "metadata": {
        "colab": {
          "base_uri": "https://localhost:8080/"
        },
        "id": "V9XvhxpViAmE",
        "outputId": "d94c16f2-e0e9-4c22-85b2-9d0eb49f4630"
      },
      "execution_count": 9,
      "outputs": [
        {
          "output_type": "stream",
          "name": "stdout",
          "text": [
            "Loaded as API: https://duchaba-kinship-llm.hf.space/--replicas/mhpzk/ ✔\n",
            "LLM Response:\n",
            "------------\n",
            "1. \"How to Say Howdy and Other Vintage Slang Words Worth Bringing Back\" - [Article Link](https://www.merriam-webster.com/words-at-play/vintage-slang-worth-bringing-back/howdy)\n",
            "2. \"The Origin of 'Howdy' and Southern Hospitality\" - [Article Link](https://www.history.com/news/the-origin-of-howdy-and-southern-hospitality)\n",
            "3. \"The Attractive Power of Simple Conversations: The Case Of Howdy\" - [Article Link](https://www.psychologytoday.com/us/blog/conversational-intelligence/201410/the-attractive-power-simple-conversations)\n",
            "4. \"How to Make Casual English Conversations\" - [Article Link](https://www.fluentu.com/blog/english/casual-english-language/)\n",
            "5. \"The Psychology Behind Friendly Behavior\" - [Article Link](https://www.scientificamerican.com/article/the-psychology-behind-friendly-behavior)\n",
            "6. \"How Greetings Change Over Time and Cultures\" - [Article Link](https://www.atlasobscura.com/articles/how-greetings-change-over-time-and-cultures)\n",
            "7. \"The Art of Speaking: Greetings Around the World\" - [Article Link](https://www.bbvaopenmind.com/en/science/leading-figures/the-art-of-speaking-greetings-around-the-world/)\n",
            "8. \"Effective Communication: The Importance of a Simple Howdy\" - [Article Link](https://www.forbes.com/sites/forbescoachescouncil/2019/03/06/effective-communication-the-importance-of-a-simple-howdy/)\n",
            "------------\n",
            "Cost: $0.0254\n",
            "LLM CPU Time Sec: 0.2006\n"
          ]
        }
      ]
    },
    {
      "cell_type": "code",
      "source": [
        "# Test 8 - Howdy with Pattern\n",
        "from gradio_client import Client\n",
        "\n",
        "client = Client(\"https://duchaba-kinship-llm.hf.space/--replicas/mhpzk/\")\n",
        "result = client.predict(\n",
        "\t\t\"Howdy!\",\t# str  in 'Vet Chat Session:' Textbox component\n",
        "\t\t\"Pattern\",\t# str  in 'POC Function' Radio component\n",
        "\t\tapi_name=\"/predict\"\n",
        ")\n",
        "print(result)\n"
      ],
      "metadata": {
        "colab": {
          "base_uri": "https://localhost:8080/"
        },
        "id": "GfAaapb0ip29",
        "outputId": "72f6ed74-8fc6-4211-94e0-18f2992fea9a"
      },
      "execution_count": 10,
      "outputs": [
        {
          "output_type": "stream",
          "name": "stdout",
          "text": [
            "Loaded as API: https://duchaba-kinship-llm.hf.space/--replicas/mhpzk/ ✔\n",
            "Pattern is not yet implement.\n"
          ]
        }
      ]
    },
    {
      "cell_type": "code",
      "source": [
        "# Test 9 - Howdy with JSON\n",
        "from gradio_client import Client\n",
        "\n",
        "client = Client(\"https://duchaba-kinship-llm.hf.space/--replicas/mhpzk/\")\n",
        "result = client.predict(\n",
        "\t\t\"Howdy!\",\t# str  in 'Vet Chat Session:' Textbox component\n",
        "\t\t\"JSON\",\t# str  in 'POC Function' Radio component\n",
        "\t\tapi_name=\"/predict\"\n",
        ")\n",
        "print(result)"
      ],
      "metadata": {
        "colab": {
          "base_uri": "https://localhost:8080/"
        },
        "id": "W8jHjl9MjZl1",
        "outputId": "4192cdd5-5fab-449f-f957-81df84b2cb64"
      },
      "execution_count": 11,
      "outputs": [
        {
          "output_type": "stream",
          "name": "stdout",
          "text": [
            "Loaded as API: https://duchaba-kinship-llm.hf.space/--replicas/mhpzk/ ✔\n",
            "JSON is not yet implement.\n"
          ]
        }
      ]
    },
    {
      "cell_type": "code",
      "source": [
        "# Test 9 - Howdy with wrong fucntion i.e., Article\n",
        "from gradio_client import Client\n",
        "\n",
        "client = Client(\"https://duchaba-kinship-llm.hf.space/--replicas/mhpzk/\")\n",
        "result = client.predict(\n",
        "\t\t\"Howdy!\",\t# str  in 'Vet Chat Session:' Textbox component\n",
        "\t\t\"Article\",\t# str  in 'POC Function' Radio component\n",
        "\t\tapi_name=\"/predict\"\n",
        ")\n",
        "print(result)"
      ],
      "metadata": {
        "colab": {
          "base_uri": "https://localhost:8080/"
        },
        "id": "XpIISbfqjp7E",
        "outputId": "50198742-22c3-4204-cda6-8af2d086b048"
      },
      "execution_count": 12,
      "outputs": [
        {
          "output_type": "stream",
          "name": "stdout",
          "text": [
            "Loaded as API: https://duchaba-kinship-llm.hf.space/--replicas/mhpzk/ ✔\n",
            "Article is not yet implement.\n"
          ]
        }
      ]
    }
  ]
}
