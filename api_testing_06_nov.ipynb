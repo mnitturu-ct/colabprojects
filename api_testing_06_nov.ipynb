{
  "nbformat": 4,
  "nbformat_minor": 0,
  "metadata": {
    "colab": {
      "provenance": [],
      "mount_file_id": "1w-UwPNZsblWn9JhTvyNOSiWd-0lJg_eh",
      "authorship_tag": "ABX9TyNKcuhQYWdmXWksmTlqp5RQ",
      "include_colab_link": true
    },
    "kernelspec": {
      "name": "python3",
      "display_name": "Python 3"
    },
    "language_info": {
      "name": "python"
    }
  },
  "cells": [
    {
      "cell_type": "markdown",
      "metadata": {
        "id": "view-in-github",
        "colab_type": "text"
      },
      "source": [
        "<a href=\"https://colab.research.google.com/github/mnitturu-ct/colabprojects/blob/main/api_testing_06_nov.ipynb\" target=\"_parent\"><img src=\"https://colab.research.google.com/assets/colab-badge.svg\" alt=\"Open In Colab\"/></a>"
      ]
    },
    {
      "cell_type": "code",
      "execution_count": null,
      "metadata": {
        "id": "9Inut3749g0f"
      },
      "outputs": [],
      "source": [
        "!pip install gradio_client"
      ]
    },
    {
      "cell_type": "code",
      "source": [
        "api_url = \"https://duchaba-kinship-llm.hf.space/--replicas/gm6gt/\"\n",
        "\n",
        "# You can use the 'api_url' variable in the remaining script\n",
        "print(\"The URL is:\", api_url)"
      ],
      "metadata": {
        "colab": {
          "base_uri": "https://localhost:8080/"
        },
        "id": "-YVLGihW-STO",
        "outputId": "742886ca-65a3-4065-a16c-092e7aa6c5f9"
      },
      "execution_count": 5,
      "outputs": [
        {
          "output_type": "stream",
          "name": "stdout",
          "text": [
            "The URL is: https://duchaba-kinship-llm.hf.space/--replicas/gm6gt/\n"
          ]
        }
      ]
    },
    {
      "cell_type": "code",
      "source": [
        "# Test 1 - Gibberish with Summary\n",
        "from gradio_client import Client\n",
        "\n",
        "client = Client(api_url)\n",
        "result = client.predict(\n",
        "\t\t\"#$%^&*)(*&^!\",\t# str  in 'Vet Chat Session:' Textbox component\n",
        "\t\t\"Summary\",\t# str  in 'POC Function' Radio component\n",
        "\t\tapi_name=\"/predict\"\n",
        ")\n",
        "print(result)"
      ],
      "metadata": {
        "colab": {
          "base_uri": "https://localhost:8080/"
        },
        "id": "_jINgkVK-Vot",
        "outputId": "c9ba321f-2b10-4bc4-e95a-d4694e962e0a"
      },
      "execution_count": null,
      "outputs": [
        {
          "output_type": "stream",
          "name": "stdout",
          "text": [
            "Loaded as API: https://duchaba-kinship-llm.hf.space/--replicas/7nlvz/ ✔\n",
            "LLM Response:\n",
            "------------\n",
            "Unable to summarize the conversation as it consists of indecipherable symbols and does not form a coherent dialogue.\n",
            "------------\n",
            "Cost: $0.0035\n",
            "LLM CPU Time Sec: 0.0119\n"
          ]
        }
      ]
    },
    {
      "cell_type": "code",
      "source": [
        "# Test 2 - nonsensical convo with Summary\n",
        "from gradio_client import Client\n",
        "\n",
        "client = Client(api_url)\n",
        "result = client.predict(\n",
        "\t\t\"User: Purple monkeys with polka dot tails\",\t# str  in 'Vet Chat Session:' Textbox component\n",
        "\t\t\"Summary\",\t# str  in 'POC Function' Radio component\n",
        "\t\tapi_name=\"/predict\"\n",
        ")\n",
        "print(result)"
      ],
      "metadata": {
        "colab": {
          "base_uri": "https://localhost:8080/"
        },
        "id": "r1KqXFIMHFBA",
        "outputId": "6bad4ef3-0316-4fab-ca64-c3cc9b21c67d"
      },
      "execution_count": null,
      "outputs": [
        {
          "output_type": "stream",
          "name": "stdout",
          "text": [
            "Loaded as API: https://duchaba-kinship-llm.hf.space/--replicas/7nlvz/ ✔\n",
            "LLM Response:\n",
            "------------\n",
            "The user mentioned or brought up the topic of purple monkeys with polka dot tails.\n",
            "------------\n",
            "Cost: $0.0034\n",
            "LLM CPU Time Sec: 0.0367\n"
          ]
        }
      ]
    },
    {
      "cell_type": "code",
      "source": [
        "# Test 3 - nonsensical convo with Summary\n",
        "from gradio_client import Client\n",
        "\n",
        "client = Client(api_url)\n",
        "result = client.predict(\n",
        "\t\t\"Quantum mechanical interdimensional spaghetti monster encryption algorithm with a side of time-traveling unicorns and a pinch of telepathic pizza delivery\",\t# str  in 'Vet Chat Session:' Textbox component\n",
        "\t\t\"Summary\",\t# str  in 'POC Function' Radio component\n",
        "\t\tapi_name=\"/predict\"\n",
        ")\n",
        "print(result)"
      ],
      "metadata": {
        "colab": {
          "base_uri": "https://localhost:8080/"
        },
        "id": "ChzhK3UfHhm7",
        "outputId": "2eace996-e8b5-4091-b09b-b2deeae5db29"
      },
      "execution_count": null,
      "outputs": [
        {
          "output_type": "stream",
          "name": "stdout",
          "text": [
            "Loaded as API: https://duchaba-kinship-llm.hf.space/--replicas/7nlvz/ ✔\n",
            "LLM Response:\n",
            "------------\n",
            "The conversation involves advanced and fantastical topics, such as a quantum mechanical interdimensional spaghetti monster encryption algorithm, time-traveling unicorns, and telepathic pizza delivery. These subjects combine elements of physics, fantasy, mystery, and humor.\n",
            "------------\n",
            "Cost: $0.0069\n",
            "LLM CPU Time Sec: 0.0181\n"
          ]
        }
      ]
    },
    {
      "cell_type": "code",
      "source": [
        "# Test 4 - nonsensical convo with Summary\n",
        "from gradio_client import Client\n",
        "\n",
        "client = Client(api_url)\n",
        "result = client.predict(\n",
        "\t\t\"Peter: Is it true that all cats are bigger than all dogs?Dave: But I heard that a chihuahua is smaller than a Maine Coon cat.Peter: So, all cats are bigger than all dogs except for chihuahuas?\",\t# str  in 'Vet Chat Session:' Textbox component\n",
        "\t\t\"Summary\",\t# str  in 'POC Function' Radio component\n",
        "\t\tapi_name=\"/predict\"\n",
        ")\n",
        "print(result)"
      ],
      "metadata": {
        "colab": {
          "base_uri": "https://localhost:8080/"
        },
        "id": "hGbISCGMI75M",
        "outputId": "8eaf576c-f8de-497d-eec4-9a0b50507f94"
      },
      "execution_count": null,
      "outputs": [
        {
          "output_type": "stream",
          "name": "stdout",
          "text": [
            "Loaded as API: https://duchaba-kinship-llm.hf.space/--replicas/7nlvz/ ✔\n",
            "LLM Response:\n",
            "------------\n",
            "The conversation involves Peter asking Dave if all cats are bigger than all dogs. Dave replies by mentioning that a specific small dog breed, a chihuahua, is smaller than a Maine Coon cat. Peter then suggests that all cats are bigger than dogs except for chihuahuas, but this seems to stem from misinterpreting Dave's response.\n",
            "------------\n",
            "Cost: $0.0099\n",
            "LLM CPU Time Sec: 0.0743\n"
          ]
        }
      ]
    },
    {
      "cell_type": "code",
      "source": [
        "# Test 5 - nonsensical convo with Summary\n",
        "from gradio_client import Client\n",
        "\n",
        "client = Client(api_url)\n",
        "result = client.predict(\n",
        "\t\"User 1: Hi, I wanted to get your opinion on a book I recently read. It's a science fiction novel by an up-and-coming author. The story is set in a distant future where humans have colonized other planets. The main character is an astronaut who embarks on a journey to discover a new habitable planet. Along the way, they encounter alien life forms and confront their own inner demons. It's a gripping and thought-provoking read.User 2: That sounds interesting. I've always been a fan of science fiction. Can you tell me more about the plot and the writing style of the author?User 1: Of course. The author's writing style is quite descriptive, and they do an excellent job of painting vivid and imaginative landscapes. The plot unfolds through a series of unexpected twists and turns, keeping the reader engaged throughout. It delves into themes of isolation, the human condition, and the potential for extraterrestrial life. The character development is also impressive, with the protagonist undergoing significant personal growth.User 3: I see. I've been looking for a new sci-fi book to read. Can you tell me the title and author's nameUser 1: The title of the book is Explorers of the Cosmos, and the author is Emily Stellars. It's her debut novel, and she has garnered quite a following with this work.User 4: I'm intrigued. Can you let me know where I can purchase the book, and is it available in e-book format?User 1: You can find the book on most major online retailers, both in physical and e-book formats. It's available on Amazon, Barnes & Noble, and various independent bookstores. In e-book format, it's also on Kindle, Apple Books, and Google Play Books.User 5: Thanks for the recommendation. I'll definitely check it out. By the way, have you read any other books by this author, and if so, how do they compare to this one?User 1: I haven't read any other books by Emily Stellars, but I've heard that her writing style is consistent across her works. Explorers of the Cosmos has received widespread critical acclaim, so I believe her other books would be worth exploring as well.User 6: This conversation about the book has piqued my interest too. Can you summarize the main themes and the overall message of the novel?User 1: Certainly. Explorers of the Cosmos primarily explores themes of human curiosity, the search for meaning, and the exploration of the unknown. It conveys the message that our quest for discovery, whether in the cosmos or within ourselves, is an integral part of the human experience.User 7: I appreciate the summary. It sounds like a profound book. I'll add it to my reading list.\",\n",
        "  \"Summary\",\t# str  in 'POC Function' Radio component\n",
        "\t\tapi_name=\"/predict\"\n",
        ")\n",
        "print(result)"
      ],
      "metadata": {
        "colab": {
          "base_uri": "https://localhost:8080/"
        },
        "id": "jwM48CUfKQjk",
        "outputId": "d24ca081-362c-478c-8767-0dc9cd415a50"
      },
      "execution_count": null,
      "outputs": [
        {
          "output_type": "stream",
          "name": "stdout",
          "text": [
            "Loaded as API: https://duchaba-kinship-llm.hf.space/--replicas/7nlvz/ ✔\n",
            "LLM Response:\n",
            "------------\n",
            "User 1 shared about a science fiction book they've recently read titled \"Explorers of the Cosmos\" by debut author Emily Stellars. The premise of the novel is set in a future where humans have colonized other planets and focuses on an astronaut's journey to discover a new habitable planet while encountering alien life forms and personal struggles. Light is shed on the author's descriptive writing style, the plot's unexpected progression, and themes such as isolation, the human condition, and the potential for extraterrestrial life. Other users expressed interest in the book and inquired about purchasing options like physical and e-book formats, and other works from the same author. User 1 also highlighted the dominant themes of human curiosity, search for meaning, and exploration of the unknown as part of the human experience. The book is well-recommended throughout the conversation.\n",
            "------------\n",
            "Cost: $0.0524\n",
            "LLM CPU Time Sec: 0.0837\n"
          ]
        }
      ]
    },
    {
      "cell_type": "code",
      "source": [
        "# Test 6 - Mixed language convo with Summary\n",
        "from gradio_client import Client\n",
        "\n",
        "import pandas as pd\n",
        "df = pd.read_csv('KIN_Chat_Conversation_Data_Sheet1.csv')\n",
        "conversation = df.loc[1, 'Conversation']\n",
        "\n",
        "client = Client(api_url)\n",
        "result = client.predict(conversation,\n",
        "\t\"Summary\",\t# str  in 'POC Function' Radio component\n",
        "\t\tapi_name=\"/predict\"\n",
        ")\n",
        "print(result)"
      ],
      "metadata": {
        "colab": {
          "base_uri": "https://localhost:8080/"
        },
        "id": "hyjyS-pDgbn3",
        "outputId": "b4039acb-b5c1-4a91-c4dd-3d260f3d7627"
      },
      "execution_count": null,
      "outputs": [
        {
          "output_type": "stream",
          "name": "stdout",
          "text": [
            "Loaded as API: https://duchaba-kinship-llm.hf.space/--replicas/7nlvz/ ✔\n",
            "LLM Response:\n",
            "------------\n",
            "In the conversation, all three users are constantly switching between different languages, including French, German, Spanish, and English while communicating. This results in confusion and misunderstandings, ultimately leading them to decide to leave because of the chaotic mix of languages.\n",
            "------------\n",
            "Cost: $0.0186\n",
            "LLM CPU Time Sec: 0.0235\n"
          ]
        }
      ]
    },
    {
      "cell_type": "code",
      "source": [
        "# Test 7 - Latin convo with Summary\n",
        "from gradio_client import Client\n",
        "\n",
        "import pandas as pd\n",
        "df = pd.read_csv('KIN_Chat_Conversation_Data.csv')\n",
        "conversation = df.loc[2, 'Conversation']\n",
        "\n",
        "client = Client(api_url)\n",
        "result = client.predict(conversation,\n",
        "\t\"Summary\",\t# str  in 'POC Function' Radio component\n",
        "\t\tapi_name=\"/predict\"\n",
        ")\n",
        "print(result)"
      ],
      "metadata": {
        "colab": {
          "base_uri": "https://localhost:8080/"
        },
        "id": "jmPdzTyY36N8",
        "outputId": "036b9453-1c1b-4e28-c1b6-a13d49cc2088"
      },
      "execution_count": null,
      "outputs": [
        {
          "output_type": "stream",
          "name": "stdout",
          "text": [
            "Loaded as API: https://duchaba-kinship-llm.hf.space/--replicas/7nlvz/ ✔\n",
            "LLM Response:\n",
            "------------\n",
            "In this conversation, two medics are discussing the treatment of an elephant that was injured. Medic 1 describes the elephant's injury, a wound on its leg that is causing blood to flow out. Medic 2 acknowledges the seriousness of the situation and asks if the bone is broken. Medic 1 confirms that while the wound is large, the bone does not appear to be broken and suggests bandaging the wound. Medic 2 agrees with the plan to bandage the wound, suggesting careful treatment to minimize scarring. Medic 1 then asks if Medic 2 has any advice regarding infection. Medic 2 insists they should be vigilant in taking care of the wound and administer antibiotics. Medic 1 thanks Medic 2, indicating the importance of the elephant's life to them.\n",
            "------------\n",
            "Cost: $0.0296\n",
            "LLM CPU Time Sec: 0.0975\n"
          ]
        }
      ]
    },
    {
      "cell_type": "code",
      "source": [
        "# Test 8 - Jargons filled convo with Summary\n",
        "from gradio_client import Client\n",
        "\n",
        "import pandas as pd\n",
        "df = pd.read_csv('KIN_Chat_Conversation_Data.csv')\n",
        "conversation = df.loc[3, 'Conversation']\n",
        "\n",
        "client = Client(api_url)\n",
        "result = client.predict(conversation,\n",
        "\t\"Summary\",\t# str  in 'POC Function' Radio component\n",
        "\t\tapi_name=\"/predict\"\n",
        ")\n",
        "print(result)"
      ],
      "metadata": {
        "colab": {
          "base_uri": "https://localhost:8080/"
        },
        "id": "qL3osrJl5P4Z",
        "outputId": "33f6f6f8-43e2-4a2e-81b5-28c9b236adc1"
      },
      "execution_count": null,
      "outputs": [
        {
          "output_type": "stream",
          "name": "stdout",
          "text": [
            "Loaded as API: https://duchaba-kinship-llm.hf.space/--replicas/7nlvz/ ✔\n",
            "LLM Response:\n",
            "------------\n",
            "Stranger 1 and Stranger 2 are discussing their plans to attend a forthcoming Buckeye game. They speculate on the chances of the Buckeyes winning against the Wolverines, acknowledging that it would be a difficult game. Stranger 1 also checks if Stranger 2 has prepared for the expected cold weather, to which Stranger 2 affirms they have their gear and beverages ready. They end the conversation in anticipation of meeting at the game.\n",
            "------------\n",
            "Cost: $0.0196\n",
            "LLM CPU Time Sec: 0.0912\n"
          ]
        }
      ]
    },
    {
      "cell_type": "code",
      "source": [
        "# Test 9 - Acronyms filled convo with Summary\n",
        "from gradio_client import Client\n",
        "\n",
        "import pandas as pd\n",
        "df = pd.read_csv('KIN_Chat_Conversation_Data.csv')\n",
        "conversation = df.loc[4, 'Conversation']\n",
        "\n",
        "client = Client(api_url)\n",
        "result = client.predict(conversation,\n",
        "\t\"Summary\",\t# str  in 'POC Function' Radio component\n",
        "\t\tapi_name=\"/predict\"\n",
        ")\n",
        "print(result)"
      ],
      "metadata": {
        "colab": {
          "base_uri": "https://localhost:8080/"
        },
        "id": "uTBvfX9U5Y_S",
        "outputId": "ec928230-66e1-461b-e13c-b8de1747b2a1"
      },
      "execution_count": null,
      "outputs": [
        {
          "output_type": "stream",
          "name": "stdout",
          "text": [
            "Loaded as API: https://duchaba-kinship-llm.hf.space/--replicas/7nlvz/ ✔\n",
            "LLM Response:\n",
            "------------\n",
            "Stranger 1 and Stranger 2 have a conversation about their shared interest in gaming. They talk about the games they prefer (mainly first-person shooter games like COD, PUBG, and Apex) and the platforms they use (both are PC users). Stranger 2 mentions that he is a Software Engineer in real life but his true passion lies in gaming, and he also streams on Twitch. Stranger 1 says he works in IT and understands the struggle of balancing work and gaming. They discuss their gaming setups and preferred roles in specific games, like being a sniper in COD and raiding in MMO WoW. They both agree that real-life commitments can sometimes interfere with gaming. They plan to play together later.\n",
            "------------\n",
            "Cost: $0.0419\n",
            "LLM CPU Time Sec: 0.075\n"
          ]
        }
      ]
    },
    {
      "cell_type": "code",
      "source": [
        "# Test 10 - Chinese Sarcasm filled convo with Summary\n",
        "from gradio_client import Client\n",
        "\n",
        "import pandas as pd\n",
        "df = pd.read_csv('KIN_Chat_Conversation_Data.csv')\n",
        "conversation = df.loc[5, 'Conversation']\n",
        "\n",
        "client = Client(api_url)\n",
        "result = client.predict(conversation,\n",
        "\t\"Summary\",\t# str  in 'POC Function' Radio component\n",
        "\t\tapi_name=\"/predict\"\n",
        ")\n",
        "print(result)"
      ],
      "metadata": {
        "colab": {
          "base_uri": "https://localhost:8080/"
        },
        "id": "ZvGryyQEhWW6",
        "outputId": "74ad8cd3-4faf-4e13-fc76-53fbd5200def"
      },
      "execution_count": null,
      "outputs": [
        {
          "output_type": "stream",
          "name": "stdout",
          "text": [
            "Loaded as API: https://duchaba-kinship-llm.hf.space/--replicas/7nlvz/ ✔\n",
            "LLM Response:\n",
            "------------\n",
            "Stranger 1 compliments Stranger 2's high intelligence, suggesting it's many times higher than the stars. Humorously, Stranger 2 attributes their intelligence to microwaving their brain daily. Stranger 1 playfully agrees, implying that using a microwave is the best way to boost intelligence. Stranger 2 jokingly claims this method allows them to instantly learn new languages, even mastering all global languages in a day. Stranger 2 jokingly suggests another method of learning is by placing a book under a pillow to absorb its knowledge; both strangers playfully dismiss traditional studying as foolish. Despite boasting about their vast knowledge, they agree on the importance of appearing humble and pretending to study to avoid making others feel stupid. Both conclude they are incredibly intelligent – geniuses among geniuses.\n",
            "\n",
            "------------\n",
            "Cost: $0.0414\n",
            "LLM CPU Time Sec: 0.097\n"
          ]
        }
      ]
    },
    {
      "cell_type": "code",
      "source": [
        "# Test 11 - Sensationalism filled convo with Summary\n",
        "\n",
        "from gradio_client import Client\n",
        "\n",
        "import pandas as pd\n",
        "df = pd.read_csv('KIN_Chat_Conversation_Data.csv')\n",
        "conversation = df.loc[6, 'Conversation']\n",
        "\n",
        "client = Client(api_url)\n",
        "result = client.predict(conversation,\n",
        "\t\"Summary\",\t# str  in 'POC Function' Radio component\n",
        "\t\tapi_name=\"/predict\"\n",
        ")\n",
        "print(result)"
      ],
      "metadata": {
        "id": "PRFqJBV-5nkA",
        "colab": {
          "base_uri": "https://localhost:8080/"
        },
        "outputId": "f06d78f4-8492-4cbd-bb6c-fbd1c1465111"
      },
      "execution_count": null,
      "outputs": [
        {
          "output_type": "stream",
          "name": "stdout",
          "text": [
            "Loaded as API: https://duchaba-kinship-llm.hf.space/--replicas/7nlvz/ ✔\n",
            "LLM Response:\n",
            "------------\n",
            "Vet 1 and Vet 2 are discussing their views on cats versus dogs. Both agree that dogs are far superior, citing their protective nature and companionship as primary reasons. They also discuss their experiences with troublesome cats, such as knocking over vases and eating leaves or the constant need for attention. They criticize cats for being careless about their living environment, specifically referencing litter boxes. In contrast, they appreciate dogs' willingness to please their owners, offering examples like playing fetch or going for walks. One even shares an anecdote about a dog scaring off a burglar, emphasizing their protective instinct. Both conclude affirming they cannot imagine their lives without their dogs.\n",
            "------------\n",
            "Cost: $0.0338\n",
            "LLM CPU Time Sec: 0.0606\n"
          ]
        }
      ]
    },
    {
      "cell_type": "code",
      "source": [
        "# Test 12 -  Convo shifting the context with Summary\n",
        "\n",
        "from gradio_client import Client\n",
        "\n",
        "import pandas as pd\n",
        "df = pd.read_csv('KIN_Chat_Conversation_Data.csv')\n",
        "conversation = df.loc[7, 'Conversation']\n",
        "\n",
        "client = Client(api_url)\n",
        "result = client.predict(conversation,\n",
        "\t\"Summary\",\t# str  in 'POC Function' Radio component\n",
        "\t\tapi_name=\"/predict\"\n",
        ")\n",
        "print(result)"
      ],
      "metadata": {
        "colab": {
          "base_uri": "https://localhost:8080/"
        },
        "id": "WDiEcyDUiB4V",
        "outputId": "d1e69767-fcef-40a0-f877-8c3fc90d87ca"
      },
      "execution_count": null,
      "outputs": [
        {
          "output_type": "stream",
          "name": "stdout",
          "text": [
            "Loaded as API: https://duchaba-kinship-llm.hf.space/--replicas/7nlvz/ ✔\n",
            "LLM Response:\n",
            "------------\n",
            "Person A and Person B discuss their thoughts on the meaning of life, agreeing that it varies for each individual and could be about experiencing both ups and downs. They acknowledge the importance of finding what gives life meaning and pursuing it. Both share about their passions: Person A loves music and art, while Person B enjoys helping people, especially children. They both agree on the importance of contributing to the community. The conversation concludes with them considering what to eat for dinner.\n",
            "------------\n",
            "Cost: $0.0267\n",
            "LLM CPU Time Sec: 0.0316\n"
          ]
        }
      ]
    },
    {
      "cell_type": "code",
      "source": [
        "# Test 13 -  Convo shifting the context with Summary\n",
        "\n",
        "from gradio_client import Client\n",
        "\n",
        "import pandas as pd\n",
        "df = pd.read_csv('KIN_Chat_Conversation_Data.csv')\n",
        "conversation = df.loc[8, 'Conversation']\n",
        "\n",
        "client = Client(api_url)\n",
        "result = client.predict(conversation,\n",
        "\t\"Summary\",\t# str  in 'POC Function' Radio component\n",
        "\t\tapi_name=\"/predict\"\n",
        ")\n",
        "print(result)"
      ],
      "metadata": {
        "colab": {
          "base_uri": "https://localhost:8080/"
        },
        "id": "TZ-NMaakiQt0",
        "outputId": "237411b8-2367-45d2-880a-b82fd8f3661c"
      },
      "execution_count": null,
      "outputs": [
        {
          "output_type": "stream",
          "name": "stdout",
          "text": [
            "Loaded as API: https://duchaba-kinship-llm.hf.space/--replicas/7nlvz/ ✔\n",
            "LLM Response:\n",
            "------------\n",
            "In the conversation, Stranger 1 starts by recounting a dream about flying through a tropical paradise. Stranger 2 diverts the conversation to the launch of a new airline route to an exotic island that Stranger 1 has always wanted to visit. This exciting news is briefly discussed before Stranger 2 shifts the conversation again, this time to a new vegan restaurant in town. Noting that the owner of the restaurant is also a pilot, Stranger 2 tries to build connections between all the topics. However, Stranger 1 interjects to maintain focus on the initial topic—his dream—which they return to discussing.\n",
            "------------\n",
            "Cost: $0.026\n",
            "LLM CPU Time Sec: 0.0558\n"
          ]
        }
      ]
    },
    {
      "cell_type": "code",
      "source": [
        "# Test 14 -  Convo with Jumbled words with Summary\n",
        "\n",
        "from gradio_client import Client\n",
        "\n",
        "import pandas as pd\n",
        "df = pd.read_csv('KIN_Chat_Conversation_Data.csv')\n",
        "conversation = df.loc[9, 'Conversation']\n",
        "\n",
        "client = Client(api_url)\n",
        "result = client.predict(conversation,\n",
        "\t\"Summary\",\t# str  in 'POC Function' Radio component\n",
        "\t\tapi_name=\"/predict\"\n",
        ")\n",
        "print(result)"
      ],
      "metadata": {
        "colab": {
          "base_uri": "https://localhost:8080/"
        },
        "id": "eTv7gmxOia61",
        "outputId": "1f7790f5-f6ec-4a63-8bc9-9c77b7b8b5e9"
      },
      "execution_count": null,
      "outputs": [
        {
          "output_type": "stream",
          "name": "stdout",
          "text": [
            "Loaded as API: https://duchaba-kinship-llm.hf.space/--replicas/7nlvz/ ✔\n",
            "LLM Response:\n",
            "------------\n",
            "Person A and Person B greet each other and ask about each other's well-being, both are doing well. They admired the nice day and decided to go for a walk without a set destination. During their walk, Person B points out something pleasing, although they don't recognize what it is. As it becomes dark, they decide to return from their walk. Both agreed they had fun and bid each other farewell.\n",
            "------------\n",
            "Cost: $0.0205\n",
            "LLM CPU Time Sec: 0.0709\n"
          ]
        }
      ]
    },
    {
      "cell_type": "code",
      "source": [
        "# Test 15 -  Convo with French & English words with Summary\n",
        "\n",
        "from gradio_client import Client\n",
        "\n",
        "import pandas as pd\n",
        "df = pd.read_csv('KIN_Chat_Conversation_Data.csv')\n",
        "conversation = df.loc[10, 'Conversation']\n",
        "\n",
        "client = Client(api_url)\n",
        "result = client.predict(conversation,\n",
        "\t\"Summary\",\t# str  in 'POC Function' Radio component\n",
        "\t\tapi_name=\"/predict\"\n",
        ")\n",
        "print(result)"
      ],
      "metadata": {
        "colab": {
          "base_uri": "https://localhost:8080/"
        },
        "id": "smi_fuY8iitM",
        "outputId": "bbd37812-74f7-4ed5-bffb-b68969c72d3b"
      },
      "execution_count": null,
      "outputs": [
        {
          "output_type": "stream",
          "name": "stdout",
          "text": [
            "Loaded as API: https://duchaba-kinship-llm.hf.space/--replicas/7nlvz/ ✔\n",
            "LLM Response:\n",
            "------------\n",
            "Person 1 and Person 2 greet each other and ask about each other's day. Person 1 mentions having a long day at work, and they both acknowledge that work can be exhausting and life can be demanding. They discuss the importance of finding a balance between work and personal life. They also agree on the necessity of taking short breaks during the day to recharge, taking care of oneself, and enjoying the little things in life. The conversation is held in a mix of English and French.\n",
            "------------\n",
            "Cost: $0.0227\n",
            "LLM CPU Time Sec: 0.0426\n"
          ]
        }
      ]
    },
    {
      "cell_type": "code",
      "source": [
        "# Test 16 -  Condescending tone filled Convo with Summary\n",
        "\n",
        "from gradio_client import Client\n",
        "\n",
        "import pandas as pd\n",
        "df = pd.read_csv('KIN_Chat_Conversation_Data.csv')\n",
        "conversation = df.loc[11, 'Conversation']\n",
        "\n",
        "client = Client(api_url)\n",
        "result = client.predict(conversation,\n",
        "\t\"Summary\",\t# str  in 'POC Function' Radio component\n",
        "\t\tapi_name=\"/predict\"\n",
        ")\n",
        "print(result)"
      ],
      "metadata": {
        "colab": {
          "base_uri": "https://localhost:8080/"
        },
        "id": "ucyISiV1iwhx",
        "outputId": "1240e361-9332-4fcf-d4a7-baedd16ad13a"
      },
      "execution_count": null,
      "outputs": [
        {
          "output_type": "stream",
          "name": "stdout",
          "text": [
            "Loaded as API: https://duchaba-kinship-llm.hf.space/--replicas/7nlvz/ ✔\n",
            "LLM Response:\n",
            "------------\n",
            "In this conversation, Villain 1 and Villain 2 both express their dislike for cats, citing them as useless, selfish, ugly, and high-maintenance. They discuss their experiences with annoying and destructive cats, and they ridicule cat owners. In contrast, they both strongly favor dogs, praising them for their loyalty, intelligence, and self-sufficiency. They believe that dogs are superior pets and deserve to be treated with respect.\n",
            "------------\n",
            "Cost: $0.038\n",
            "LLM CPU Time Sec: 0.0379\n"
          ]
        }
      ]
    },
    {
      "cell_type": "code",
      "source": [
        "# Test 17 - Multiple topics in a Lengthy conversation with Summary\n",
        "\n",
        "from gradio_client import Client\n",
        "\n",
        "import pandas as pd\n",
        "df = pd.read_csv('KIN_Chat_Conversation_Data.csv')\n",
        "conversation = df.loc[12, 'Conversation']\n",
        "\n",
        "client = Client(api_url)\n",
        "result = client.predict(conversation,\n",
        "\t\"Summary\",\t# str  in 'POC Function' Radio component\n",
        "\t\tapi_name=\"/predict\"\n",
        ")\n",
        "print(result)"
      ],
      "metadata": {
        "colab": {
          "base_uri": "https://localhost:8080/"
        },
        "id": "DVLilyucg65M",
        "outputId": "a25aecb9-dd7a-41c6-8078-cef81e14bfec"
      },
      "execution_count": 6,
      "outputs": [
        {
          "output_type": "stream",
          "name": "stdout",
          "text": [
            "Loaded as API: https://duchaba-kinship-llm.hf.space/--replicas/gm6gt/ ✔\n",
            "LLM Response:\n",
            "------------\n",
            "Person A and Person B discuss various aspects of their personal lives and respective pursuits. Person A is working on a new project at his job, his child is starting kindergarten, he’s trying to get back into shape by going to the gym three times a week, he's reading a book on the history of AI, and he's learning Spanish. Meanwhile, Person B is also working on a challenging project at work, his child is starting middle school, he's eating healthier, reading a novel about people trapped in a virtual reality simulation, and is considering learning guitar. They both offer support, encouragement, and input on each other's activities and respective challenges. They repeatedly reaffirm their mutual interest in continuous learning, self-improvement, and parenting support.\n",
            "------------\n",
            "Cost: $0.0703\n",
            "LLM CPU Time Sec: 0.0756\n"
          ]
        }
      ]
    }
  ]
}