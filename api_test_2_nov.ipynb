{
  "nbformat": 4,
  "nbformat_minor": 0,
  "metadata": {
    "colab": {
      "provenance": [],
      "authorship_tag": "ABX9TyOgo/1H+B1y9/Sad05foN9i",
      "include_colab_link": true
    },
    "kernelspec": {
      "name": "python3",
      "display_name": "Python 3"
    },
    "language_info": {
      "name": "python"
    }
  },
  "cells": [
    {
      "cell_type": "markdown",
      "metadata": {
        "id": "view-in-github",
        "colab_type": "text"
      },
      "source": [
        "<a href=\"https://colab.research.google.com/github/mnitturu-ct/colabprojects/blob/main/api_test_2_nov.ipynb\" target=\"_parent\"><img src=\"https://colab.research.google.com/assets/colab-badge.svg\" alt=\"Open In Colab\"/></a>"
      ]
    },
    {
      "cell_type": "code",
      "execution_count": null,
      "metadata": {
        "id": "JzrduZsMnKro"
      },
      "outputs": [],
      "source": [
        "!pip install gradio_client"
      ]
    },
    {
      "cell_type": "code",
      "source": [
        "# Test 1 - Valid convo 1 with Summary\n",
        "from gradio_client import Client\n",
        "\n",
        "client = Client(\"https://duchaba-kinship-llm.hf.space/--replicas/mhpzk/\")\n",
        "result = client.predict(\n",
        "\t\t\"Vet: Good afternoon, Mr. and Mrs. Johnson. Thank you for coming in today. I wish we could meet under better circumstances.Parent 1: Thank you, Doctor Smith. We appreciate you taking the time to see us. Our beloved dog, Max, means the world to us, and we're really worried about his health.Vet: I completely understand your concern. I've reviewed Max's test results, and I'm afraid to say that we've identified a serious illness. Max has been diagnosed with a form of cancer called lymphoma. I know this is a lot to take in, and I'm here to explain everything and discuss our options.Parent 2: Cancer? Oh, no... Can you tell us more about this illness and what it means for Max?Vet: Of course. Lymphoma is a type of cancer that affects the lymphatic system, which is an important part of Max's immune system. It's a serious condition, but there are treatment options available. The main treatment for lymphoma in dogs is chemotherapy. It can help manage the disease and improve Max's quality of life.Parent 1: What are the chances of successful treatment, Doctor Smith?Vet: The success of treatment can vary from case to case, but many dogs with lymphoma respond well to chemotherapy. It's essential to remember that our goal is not necessarily a cure, but to provide Max with more quality time and relief from his symptoms.Parent 2: Can you explain what the treatment process will be like for Max?Vet: Of course. Max will receive chemotherapy treatments over several months. The schedule and specific medications will depend on his condition and response to treatment. Throughout this time, we'll closely monitor Max's health, adjust the treatment as needed, and provide supportive care to manage any side effects.Parent 1: We want to do what's best for Max. Can you give us some time to think about this and discuss it as a family?Vet: Absolutely, take all the time you need to consider your options. It's a significant decision, and we want you to be comfortable with the plan. Feel free to reach out with any questions or concerns. Our primary goal is to ensure Max's comfort and well-being throughout this journey.\",\t# str  in 'Vet Chat Session:' Textbox component\n",
        "\t\t\"Summary\",\t# str  in 'POC Function' Radio component\n",
        "\t\tapi_name=\"/predict\"\n",
        ")\n",
        "print(result)"
      ],
      "metadata": {
        "colab": {
          "base_uri": "https://localhost:8080/"
        },
        "id": "vpUMS7EGn88B",
        "outputId": "64c51243-7f11-4549-dd9e-6f5cc23deaba"
      },
      "execution_count": 2,
      "outputs": [
        {
          "output_type": "stream",
          "name": "stdout",
          "text": [
            "Loaded as API: https://duchaba-kinship-llm.hf.space/--replicas/mhpzk/ ✔\n",
            "LLM Response:\n",
            "------------\n",
            "The conversation is between a veterinarian, Dr. Smith, and Mr. and Mrs. Johnson. The Johnsons' dog, Max, has been diagnosed with lymphoma, a form of cancer that affects the immune system. Dr. Smith explains that the main treatment for lymphoma is chemotherapy which is aimed at managing the disease to improve Max's quality of life. The treatment will happen over several months and will be closely monitored for any adjustments needed. Given the gravity of the situation, the Johnsons request time to discuss as a family before making a decision. Dr. Smith encourages them to take their time and assures them that Max's comfort and well-being are the primary goals.\n",
            "------------\n",
            "Cost: $0.0416\n",
            "LLM CPU Time Sec: 0.1121\n"
          ]
        }
      ]
    },
    {
      "cell_type": "code",
      "source": [
        "# Test 2 - Valid convo 2 with Summary\n",
        "from gradio_client import Client\n",
        "\n",
        "client = Client(\"https://duchaba-kinship-llm.hf.space/--replicas/mhpzk/\")\n",
        "result = client.predict(\n",
        "\t\t\"David: Hi Vick, thank you for coming in today. I understand that you're concerned about Dew.Vick: Yes, that's right. Dew has been acting very lethargic and has been losing weight. I'm really worried about them.David: I understand your concern. Let's start by talking about Dew's symptoms. Can you tell me more about what you've been noticing?Vick: Sure. Dew has been sleeping more than usual and doesn't seem to be interested in playing. They've also been eating less and have lost a lot of weight in the past few weeks.David: Okay. I see. Those are all signs of a serious illness. I'm going to need to run some tests to get a better idea of what's going on.Vick: Of course. Whatever it takes to help Dew.David: Thank you. I'll be back with the results of the tests as soon as I have them.David: Vick, I have the results of the tests back. Unfortunately, Dew has been diagnosed with [illness].Vick: Oh no. I'm so sorry to hear that.David: I know this is a lot to take in. I'm here to answer any questions you have and to discuss your options.Vick: What are the treatment options?David: There are a few different treatment options available, but the best course of treatment will depend on the stage of the illness and Dew's overall health. We can discuss the different options and make a decision together.Vick: Thank you. I appreciate it.David: You're welcome. I know this is a difficult time for you and your family, but I want to assure you that we're here to help. We'll do everything we can to make sure that Dew is comfortable and receives the best possible care.Vick: Thank you for your support. It means a lot.\", # str in text box\n",
        "    \"Summary\",\t# str  in 'POC Function' Radio component\n",
        "\t\tapi_name=\"/predict\"\n",
        ")\n",
        "print(result)"
      ],
      "metadata": {
        "colab": {
          "base_uri": "https://localhost:8080/"
        },
        "id": "jFS41rhMrkAK",
        "outputId": "9bb9c553-5d3f-4f6c-8e72-13ab453294e6"
      },
      "execution_count": 3,
      "outputs": [
        {
          "output_type": "stream",
          "name": "stdout",
          "text": [
            "Loaded as API: https://duchaba-kinship-llm.hf.space/--replicas/mhpzk/ ✔\n",
            "LLM Response:\n",
            "------------\n",
            "Vick visits David over concerns about his pet, Dew, displaying lethargic behavior and weight loss. David inquires about Dew's symptoms and decides to run tests to diagnose Dew's condition. After receiving the results, David discloses that Dew has been diagnosed with a serious illness. He addresses Vick's concerns and speaks about various treatment options, depending on Dew's health and stage of illness. David reassures that Dew will be provided the best care possible, bringing comfort to Vick.\n",
            "------------\n",
            "Cost: $0.0338\n",
            "LLM CPU Time Sec: 0.0914\n"
          ]
        }
      ]
    },
    {
      "cell_type": "code",
      "source": [
        "# Test 3 - invalid convo 1 with Summary\n",
        "from gradio_client import Client\n",
        "\n",
        "client = Client(\"https://duchaba-kinship-llm.hf.space/--replicas/mhpzk/\")\n",
        "result = client.predict(\n",
        "\t\t\"Dheer: Good morning! I'm looking for something to help with my allergies. They've been acting up lately, and I'm tired of sneezing all the time.Vicky: Good morning, Dheer! I'm sorry to hear about your allergies. We have a few different options. Do you prefer over-the-counter medication or something prescription-based?Dheer: I'd rather start with over-the-counter. I've heard there are some effective antihistamines available without a prescription.Vicky: Of course, we have several options in that case. We have non-drowsy options like loratadine and cetirizine, and we also carry some nasal sprays if you prefer that. Have you used any of these before?Dheer: I've tried cetirizine in the past, and it seemed to work quite well. I'll go with that.Vicky: Great choice, Dheer. Here's a box of cetirizine for you. Do you need anything else today?Dheer: Actually, yes. I've been having trouble sleeping lately, and I'm looking for a mild sleep aid. What do you recommend?Vicky: I understand how important a good night's sleep is. We have some over-the-counter sleep aids like melatonin or diphenhydramine. Melatonin is a more natural option, while diphenhydramine is more commonly found in products like Benadryl.Dheer: I think I'll go with melatonin. I've heard good things about it.Vicky: Melatonin is a good choice, Dheer. It's a hormone your body naturally produces to regulate sleep, so it's generally well-tolerated. Here's a bottle of melatonin. Is there anything else I can assist you with today?Dheer: That's all for now, Vicky. Thank you for your help!Vicky: You're very welcome, Dheer. If you have any more questions or need further assistance in the future, don't hesitate to stop by. Have a great day!(Dheer smiles and leaves the pharmacy with his purchases.)\",\n",
        "    \"Summary\",\t# str  in 'POC Function' Radio component\n",
        "\t\tapi_name=\"/predict\"\n",
        ")\n",
        "print(result)"
      ],
      "metadata": {
        "colab": {
          "base_uri": "https://localhost:8080/"
        },
        "id": "tFaNJzTlsUu2",
        "outputId": "2b30bc2b-9a59-4fb2-8a6d-875441f1c72f"
      },
      "execution_count": 4,
      "outputs": [
        {
          "output_type": "stream",
          "name": "stdout",
          "text": [
            "Loaded as API: https://duchaba-kinship-llm.hf.space/--replicas/mhpzk/ ✔\n",
            "LLM Response:\n",
            "------------\n",
            "Dheer visits a pharmacy and speaks to an employee, Vicky, about his allergy and sleep problems. Vicky suggests over-the-counter medications. Dheer decides to buy the antihistamine cetirizine for allergies as it had worked for him before. He then asks for a suggestion for a mild sleep aid, for which Vicky recommends two options: melatonin or diphenhydramine. Dheer chooses melatonin. After receiving his purchases, Dheer thanks Vicky, who offers her help for any future needs.\n",
            "\n",
            "------------\n",
            "Cost: $0.0393\n",
            "LLM CPU Time Sec: 0.0739\n"
          ]
        }
      ]
    },
    {
      "cell_type": "code",
      "source": [
        "# Test 4 - invalid & random convo 2 with Summary\n",
        "from gradio_client import Client\n",
        "\n",
        "client = Client(\"https://duchaba-kinship-llm.hf.space/--replicas/mhpzk/\")\n",
        "result = client.predict(\n",
        "\t\t\"Person A: Hi, I was just thinking about the structural integrity of that bridge they're building in the city. It's fascinating how they calculate all those forces.Person B: Excuse me, sir, but I couldn't help but notice your rather unique ride. It's unlike any broomstick I've seen at Hogwarts.Person C: Hey, I couldn't help but overhear your conversation. Person A: Nah, no spells here. Just a lot of horsepower and some skilled hands on the wheel. But I've heard you have your fair share of tricks up your sleeve with those wands.Person B: Indeed, the perfect balance of ingredients in a recipe can make or break a dish.Person C: Yeah, we've had our share of adventures, too, Harry. It's all about family, loyalty, and a bit of crazy driving. But hey, we all have our own ways of facing challenges and living life in the fast lane.Person A: You know what's really stable? Pyramids. The way they built those is just...Person B: Well, you've got that right, Harry. Speed, courage, and a bit of magic – sounds like a winning combination.Person C: Speaking of air, have you ever considered designing a mat?Person A: Well, you've got that right, Harry. Speed, courage, and a bit of magic – sounds like a winning combination.Person B: But did it have the perfect balance of laws.Person C: Imagine playing Yanni\",\n",
        "    \"Summary\",\t# str  in 'POC Function' Radio component\n",
        "\t\tapi_name=\"/predict\"\n",
        ")\n",
        "print(result)"
      ],
      "metadata": {
        "colab": {
          "base_uri": "https://localhost:8080/"
        },
        "id": "-tH1rkSfxvBJ",
        "outputId": "98ef9ed3-8217-4128-e11b-412cec764efb"
      },
      "execution_count": 5,
      "outputs": [
        {
          "output_type": "stream",
          "name": "stdout",
          "text": [
            "Loaded as API: https://duchaba-kinship-llm.hf.space/--replicas/mhpzk/ ✔\n",
            "LLM Response:\n",
            "------------\n",
            "Person A, B, and C have a conversation about structural integrity, magic, cooking, and driving. Person B compares Person A's mode of transportation to a broomstick from Hogwarts, and they talk about the importance of skill in both driving and wand-wielding. The conversation then veers off into the construction of pyramids and the possibility of designing a mat, with some references to laws and playing Yanni.\n",
            "------------\n",
            "Cost: $0.0276\n",
            "LLM CPU Time Sec: 0.0835\n"
          ]
        }
      ]
    },
    {
      "cell_type": "code",
      "source": [
        "# Test 5 - Another language convo 3 with Summary\n",
        "from gradio_client import Client\n",
        "\n",
        "client = Client(\"https://duchaba-kinship-llm.hf.space/--replicas/mhpzk/\")\n",
        "result = client.predict(\n",
        "\t\t\"వ్యక్తి A: మీకు ఇంకా ఏదైనా చెప్పటం ఉందా?వ్యక్తి B: ఆమె కూడా చెప్పడానికి వాళ్ళు తయారు చేసేశారు. చాలా ఆనందంగా ఉంది.వ్యక్తి A: బాగుందా, నాకు ఇంకా వినాల్సిందే.వ్యక్తి B: సరే, మన జీవితంలో అన్ని రంగాలలో ఆనందించటం అనేది చాలా ముఖ్యం. మీరు ఏదైనా ఆదుకోవడానికి ఉంటారా?వ్యక్తి A: ఆందుక, నేను చదివడం బాగా ఇచ్చేది. ఆదికారం నేను ఎలాంటి ఉపయోగం చేస్తున్నాను.\",\n",
        "    \"Summary\",\t# str  in 'POC Function' Radio component\n",
        "\t\tapi_name=\"/predict\"\n",
        ")\n",
        "print(result)"
      ],
      "metadata": {
        "colab": {
          "base_uri": "https://localhost:8080/"
        },
        "id": "UCnfmBou0jOl",
        "outputId": "32417e8c-dc2e-4103-b599-1146c3809fe2"
      },
      "execution_count": 6,
      "outputs": [
        {
          "output_type": "stream",
          "name": "stdout",
          "text": [
            "Loaded as API: https://duchaba-kinship-llm.hf.space/--replicas/mhpzk/ ✔\n",
            "LLM Response:\n",
            "------------\n",
            "Person A asks if Person B has anything more to say. Person B replies that they are prepared to speak, and that they are happy. Person A responds that they look forward to listening further. Person B agrees and emphasizes the importance of finding joy in all aspects of life, and further asks if Person A has anything to resist. To this, Person A replies that they enjoy reading a lot and wonders how they are utilizing that advantage.\n",
            "------------\n",
            "Cost: $0.0459\n",
            "LLM CPU Time Sec: 0.0719\n"
          ]
        }
      ]
    },
    {
      "cell_type": "code",
      "source": [
        "# Test 6 - 2 languages mix convo 3 with Summary\n",
        "from gradio_client import Client\n",
        "\n",
        "client = Client(\"https://duchaba-kinship-llm.hf.space/--replicas/mhpzk/\")\n",
        "result = client.predict(\n",
        "\t\t\"వ్యక్తి A: మీకు ఇంకా ఏదైనా చెప్పటం ఉందా?Well, you've got that right, Harry. Speed, courage, and a bit of magic – sounds like a winning combination.వ్యక్తి A: బాగుందా, నాకు ఇంకా వినాల్సిందే.Person C: Thrills? My aunt is a thrill at family gatherings. She always tells the funniest jokes.Person A: Well, I did design a pasta bridge once in an engineering class. It held a surprising amount of weight.వ్యక్తి A: బాగుందా, నాకు ఇంకా వినాల్సిందే.\",\n",
        "    \"Summary\",\t# str  in 'POC Function' Radio component\n",
        "\t\tapi_name=\"/predict\"\n",
        ")\n",
        "print(result)"
      ],
      "metadata": {
        "colab": {
          "base_uri": "https://localhost:8080/"
        },
        "id": "Jo4JaXig1N5c",
        "outputId": "cc0c6d17-2e00-46f6-bce7-0d9205ec9b4d"
      },
      "execution_count": 7,
      "outputs": [
        {
          "output_type": "stream",
          "name": "stdout",
          "text": [
            "Loaded as API: https://duchaba-kinship-llm.hf.space/--replicas/mhpzk/ ✔\n",
            "LLM Response:\n",
            "------------\n",
            "Person A asks if there is anything more to say. Another person named Harry agrees with them, linking speed, courage, and magic to a winning strategy. Person A responds positively, suggesting they still have more to hear. Person C mentions their aunt as a thrilling person at family functions due to her humor. Person A shares their past experience of designing a pasta bridge in an engineering class which held a lot of weight. Once again, Person A connotes that they still have more to listen to.\n",
            "------------\n",
            "Cost: $0.0271\n",
            "LLM CPU Time Sec: 0.0965\n"
          ]
        }
      ]
    }
  ]
}